{
 "cells": [
  {
   "cell_type": "markdown",
   "id": "7aa97f2b",
   "metadata": {},
   "source": [
    "# Assembly problem\n",
    "\n",
    "Assembly is the intricate process of reconstructing a complete genome from shorter DNA sequences, known as reads, often achieved through identifying overlaps between pairs of reads. One of the primary challenges encountered in assembly is the task of finding the shortest common superstring. This superstring denotes the shortest sequence that encompasses all the given input strings, offering a unified representation of the genetic information contained within the reads.\n",
    "1. Overlaps between reads\n",
    "2. Shortest Common Superstring aims to find the shortest string that contains all the given input strings as substrings. This problem is NP-hard, making it computationally challenging.\n",
    "3. Greedy Shortest Common Superstring employs a greedy approach by iteratively merging the two strings with the maximum overlap until no such overlaps exist, resulting in a superstring.\n",
    "4. De Bruijn Graph Based represents sequences as nodes and overlaps as edges. By finding an Eulerian walk, which traverses each edge exactly once, researchers can reconstruct the original sequences efficiently. "
   ]
  },
  {
   "cell_type": "markdown",
   "id": "8dc0e894",
   "metadata": {},
   "source": [
    "## 1. Overlap"
   ]
  },
  {
   "cell_type": "code",
   "execution_count": 7,
   "id": "f37472ae",
   "metadata": {},
   "outputs": [
    {
     "name": "stdout",
     "output_type": "stream",
     "text": [
      "{('ACGGATC', 'GATCAAGT'): 4, ('TTCACGGA', 'ACGGATC'): 5}\n"
     ]
    }
   ],
   "source": [
    "from findOverlap import naive_overlap_map, overlap_all_pairs\n",
    "\n",
    "reads = ['ACGGATC', 'GATCAAGT', 'TTCACGGA']\n",
    "print(naive_overlap_map(reads, 3))"
   ]
  },
  {
   "cell_type": "code",
   "execution_count": 22,
   "id": "e860dab5",
   "metadata": {},
   "outputs": [
    {
     "name": "stdout",
     "output_type": "stream",
     "text": [
      "all overlap pairs: 6\n",
      "[('CGTACG', 'GTACGA'), ('CGTACG', 'GTACGT'), ('TACGTA', 'ACGTAC'), ('GTACGT', 'TACGTA'), ('ACGTAC', 'CGTACG'), ('GTACGA', 'TACGAT')]\n",
      "all overlap reads: 5\n",
      "{'GTACGA', 'CGTACG', 'TACGTA', 'GTACGT', 'ACGTAC'}\n"
     ]
    }
   ],
   "source": [
    "#test\n",
    "reads = ['CGTACG', 'TACGTA', 'GTACGT', 'ACGTAC', 'GTACGA', 'TACGAT']\n",
    "overlaps_pair, count_overlap_reads = overlap_all_pairs(reads, 5)\n",
    "print('all overlap pairs: {}'.format(len(overlaps_pair)))\n",
    "print(overlaps_pair)\n",
    "print('all overlap reads: {}'.format(len(count_overlap_reads)))\n",
    "print(count_overlap_reads)"
   ]
  },
  {
   "cell_type": "code",
   "execution_count": 18,
   "id": "35c1bf61",
   "metadata": {},
   "outputs": [
    {
     "name": "stdout",
     "output_type": "stream",
     "text": [
      "all overlap pairs: 46832\n",
      "all overlap reads: 196\n"
     ]
    }
   ],
   "source": [
    "from readFASTQ import readFASTQ\n",
    "reads, _ = readFASTQ('ERR266411_1.first1000.fastq')\n",
    "overlaps_pair, count_overlap_reads = overlap_all_pairs(reads, 30)\n",
    "print('all overlap pairs: {}'.format(len(overlaps_pair)))\n",
    "print('all overlap reads: {}'.format(len(count_overlap_reads)))"
   ]
  },
  {
   "cell_type": "markdown",
   "id": "061140f0",
   "metadata": {},
   "source": [
    "## 2. Shortest Common Superstring"
   ]
  },
  {
   "cell_type": "code",
   "execution_count": 83,
   "id": "cf009969",
   "metadata": {},
   "outputs": [
    {
     "name": "stdout",
     "output_type": "stream",
     "text": [
      "CPU times: user 4 µs, sys: 1e+03 ns, total: 5 µs\n",
      "Wall time: 7.87 µs\n",
      "list of possible scs: ['ACGGATGAGCGAGCGGA']\n",
      "Length of each superstring: 17\n"
     ]
    }
   ],
   "source": [
    "from assembly_scs import scs_list\n",
    "\n",
    "%time\n",
    "string_set = ['ACGGATGAGC', 'GAGCGGA', 'GAGCGAG']\n",
    "shortest_superstring = scs_list(string_set)\n",
    "print(\"list of possible scs: {}\".format(shortest_superstring))\n",
    "print(\"Length of each superstring: {}\".format(len(shortest_superstring[0])))"
   ]
  },
  {
   "cell_type": "code",
   "execution_count": 84,
   "id": "c2ff6861",
   "metadata": {},
   "outputs": [
    {
     "name": "stdout",
     "output_type": "stream",
     "text": [
      "CPU times: user 3 µs, sys: 1 µs, total: 4 µs\n",
      "Wall time: 8.11 µs\n",
      "list of possible scs: ['TCGATGCAATAG', 'TCGATAGAATGC', 'TCGAATAGATGC', 'TGCAATCGATAG', 'TGCAATAGATCG', 'AATCGATAGTGC', 'AATGCTCGATAG', 'AATAGATCGTGC', 'AATAGATGCTCG', 'AATAGTCGATGC']\n",
      "Length of each superstring: 12\n"
     ]
    }
   ],
   "source": [
    "%time\n",
    "string_set = ['GAT', 'TAG', 'TCG', 'TGC', 'AAT', 'ATA']\n",
    "shortest_superstring = scs_list(string_set)\n",
    "print(\"list of possible scs: {}\".format(shortest_superstring))\n",
    "print(\"Length of each superstring: {}\".format(len(shortest_superstring[0])))"
   ]
  },
  {
   "cell_type": "code",
   "execution_count": 85,
   "id": "36d2de7e",
   "metadata": {},
   "outputs": [
    {
     "name": "stdout",
     "output_type": "stream",
     "text": [
      "CPU times: user 3 µs, sys: 1 µs, total: 4 µs\n",
      "Wall time: 7.87 µs\n",
      "list of possible scs: ['ABCDBCDA']\n",
      "Length of each superstring: 8\n"
     ]
    }
   ],
   "source": [
    "%time\n",
    "string_set = ['ABCD', 'CDBC', 'BCDA']\n",
    "shortest_superstring = scs_list(string_set)\n",
    "print(\"list of possible scs: {}\".format(shortest_superstring))\n",
    "print(\"Length of each superstring: {}\".format(len(shortest_superstring[0])))"
   ]
  },
  {
   "cell_type": "markdown",
   "id": "34d5027a",
   "metadata": {},
   "source": [
    "## 3. Greedy Shortest Common Superstring"
   ]
  },
  {
   "cell_type": "code",
   "execution_count": 1,
   "id": "ae04cb16",
   "metadata": {},
   "outputs": [
    {
     "name": "stdout",
     "output_type": "stream",
     "text": [
      "CPU times: user 3 µs, sys: 1e+03 ns, total: 4 µs\n",
      "Wall time: 11 µs\n",
      "list of possible scs: ACGGATGAGCGGAGCGAG\n",
      "Length of the first superstring: 18\n"
     ]
    }
   ],
   "source": [
    "from assembly_greedy_scs import greedy_scs\n",
    "\n",
    "%time\n",
    "string_set = ['ACGGATGAGC', 'GAGCGGA', 'GAGCGAG']\n",
    "shortest_superstring = greedy_scs(string_set, 2)\n",
    "print(\"list of possible scs: {}\".format(shortest_superstring))\n",
    "print(\"Length of the first superstring: {}\".format(len(shortest_superstring)))"
   ]
  },
  {
   "cell_type": "code",
   "execution_count": 65,
   "id": "0d060a71",
   "metadata": {},
   "outputs": [
    {
     "name": "stdout",
     "output_type": "stream",
     "text": [
      "CPU times: user 3 µs, sys: 1 µs, total: 4 µs\n",
      "Wall time: 8.11 µs\n",
      "list of possible scs: TCGTGCAATGATAG\n",
      "Length of the first superstring: 14\n"
     ]
    }
   ],
   "source": [
    "%time\n",
    "string_set = ['GAT', 'TAG', 'TCG', 'TGC', 'AAT', 'ATA']\n",
    "shortest_superstring = greedy_scs(string_set, 2)\n",
    "print(\"list of possible scs: {}\".format(shortest_superstring))\n",
    "print(\"Length of the first superstring: {}\".format(len(shortest_superstring)))"
   ]
  },
  {
   "cell_type": "code",
   "execution_count": 66,
   "id": "420dd4ea",
   "metadata": {},
   "outputs": [
    {
     "name": "stdout",
     "output_type": "stream",
     "text": [
      "CPU times: user 3 µs, sys: 1e+03 ns, total: 4 µs\n",
      "Wall time: 7.87 µs\n",
      "list of possible scs: CDBCABCDA\n",
      "Length of each superstring: 9\n"
     ]
    }
   ],
   "source": [
    "%time\n",
    "string_set = ['ABCD', 'CDBC', 'BCDA']\n",
    "shortest_superstring = greedy_scs(string_set, 2)\n",
    "print(\"list of possible scs: {}\".format(shortest_superstring))\n",
    "print(\"Length of each superstring: {}\".format(len(shortest_superstring)))"
   ]
  },
  {
   "cell_type": "code",
   "execution_count": 3,
   "id": "f7a9a1bb",
   "metadata": {},
   "outputs": [
    {
     "name": "stdout",
     "output_type": "stream",
     "text": [
      "Length of full sequence: 15894\n"
     ]
    }
   ],
   "source": [
    "#read fastq file\n",
    "from readFASTQ import readFASTQ\n",
    "sequences, _ = readFASTQ('ads1_week4_reads.fq')\n",
    "\n",
    "full_sequence = greedy_scs(sequences, 30)\n",
    "print(\"Length of full sequence: {}\".format(len(full_sequence)))"
   ]
  },
  {
   "cell_type": "code",
   "execution_count": 5,
   "id": "64dc8f8d",
   "metadata": {},
   "outputs": [
    {
     "data": {
      "text/plain": [
       "Counter({'A': 4633, 'C': 3789, 'G': 3749, 'T': 3723})"
      ]
     },
     "execution_count": 5,
     "metadata": {},
     "output_type": "execute_result"
    }
   ],
   "source": [
    "import collections\n",
    "collections.Counter(full_sequence)"
   ]
  },
  {
   "cell_type": "markdown",
   "id": "386806f1",
   "metadata": {},
   "source": [
    "## 4. De Bruijn Graph"
   ]
  },
  {
   "cell_type": "code",
   "execution_count": 12,
   "id": "da03885f",
   "metadata": {},
   "outputs": [
    {
     "name": "stdout",
     "output_type": "stream",
     "text": [
      "{'CA', 'TA', 'TT', 'GC', 'CG', 'AT'}\n"
     ]
    }
   ],
   "source": [
    "from assembly_de_bruijin_graph import de_bruijn_graph\n",
    "\n",
    "nodes, edges = de_bruijn_graph(\"GCGCGCATTA\", 3)\n",
    "print(nodes)"
   ]
  },
  {
   "cell_type": "code",
   "execution_count": 13,
   "id": "060f363e",
   "metadata": {},
   "outputs": [
    {
     "name": "stdout",
     "output_type": "stream",
     "text": [
      "[('GC', 'CG'), ('CG', 'GC'), ('GC', 'CG'), ('CG', 'GC'), ('GC', 'CA'), ('CA', 'AT'), ('AT', 'TT'), ('TT', 'TA')]\n"
     ]
    }
   ],
   "source": [
    "print(edges)"
   ]
  },
  {
   "cell_type": "code",
   "execution_count": 14,
   "id": "305d0df7",
   "metadata": {},
   "outputs": [
    {
     "data": {
      "image/png": "[encoded data removed]",
      "text/plain": [
       "<Figure size 640x480 with 1 Axes>"
      ]
     },
     "metadata": {},
     "output_type": "display_data"
    }
   ],
   "source": [
    "from assembly_de_bruijin_graph import visualize_de_bruijn_graph\n",
    "visualize_de_bruijn_graph(nodes, edges)"
   ]
  }
 ],
 "metadata": {
  "kernelspec": {
   "display_name": "Python 3 (ipykernel)",
   "language": "python",
   "name": "python3"
  },
  "language_info": {
   "codemirror_mode": {
    "name": "ipython",
    "version": 3
   },
   "file_extension": ".py",
   "mimetype": "text/x-python",
   "name": "python",
   "nbconvert_exporter": "python",
   "pygments_lexer": "ipython3",
   "version": "3.11.5"
  }
 },
 "nbformat": 4,
 "nbformat_minor": 5
}
