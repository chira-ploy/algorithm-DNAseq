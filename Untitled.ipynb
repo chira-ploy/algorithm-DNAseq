{
 "cells": [
  {
   "cell_type": "code",
   "execution_count": 15,
   "id": "e1f0e852",
   "metadata": {},
   "outputs": [],
   "source": [
    "#!/usr/bin/env python\n",
    "\n",
    "\"\"\"kmer_index.py: A k-mer index for indexing a text.\"\"\"\n",
    "\n",
    "__author__ = \"Ben Langmead\"\n",
    "\n",
    "import bisect\n",
    "\n",
    "\n",
    "class Index(object):\n",
    "    \"\"\" Holds a substring index for a text T \"\"\"\n",
    "\n",
    "    def __init__(self, t, k):\n",
    "        \"\"\" Create index from all substrings of t of length k \"\"\"\n",
    "        self.k = k  # k-mer length (k)\n",
    "        self.index = []\n",
    "        for i in range(len(t) - k + 1):  # for each k-mer\n",
    "            self.index.append((t[i:i+k], i))  # add (k-mer, offset) pair\n",
    "        self.index.sort()  # alphabetize by k-mer\n",
    "\n",
    "    def query(self, p):\n",
    "        \"\"\" Return index hits for first k-mer of p \"\"\"\n",
    "        kmer = p[:self.k]  # query with first k-mer\n",
    "        i = bisect.bisect_left(self.index, (kmer, -1))  # binary search\n",
    "        hits = []\n",
    "        while i < len(self.index):  # collect matching index entries\n",
    "            if self.index[i][0] != kmer:\n",
    "                break\n",
    "            hits.append(self.index[i][1])\n",
    "            i += 1\n",
    "        return hits\n"
   ]
  },
  {
   "cell_type": "code",
   "execution_count": 48,
   "id": "ac9d251e",
   "metadata": {},
   "outputs": [],
   "source": [
    "#!/usr/bin/env python\n",
    "\n",
    "# Author: Chiranan Khantham\n",
    "\n",
    "import bisect\n",
    "\n",
    "def queryIndex_approximate_matching(p, t, t_index, n):\n",
    "    \"\"\"\n",
    "    Find approximate occurrences of a pattern in a text using an indexed search.\n",
    "\n",
    "    Parameters:\n",
    "    - p (str): The pattern to search for in the text.\n",
    "    - t (str): The text where the pattern is to be searched.\n",
    "    - t_index (Index): The index of the text constructed using an indexing method.\n",
    "    - n (int): The maximum number of mismatches allowed.\n",
    "\n",
    "    Returns:x\n",
    "    - tuple: A tuple containing two elements:\n",
    "        - list: A list containing the starting positions of approximate occurrences of the pattern in the text.\n",
    "        - list: A list containing the hits found during the indexed search.\n",
    "    \"\"\"\n",
    "        \n",
    "    segment_length = int(round(len(p) / (n+1)))\n",
    "    kmers = []\n",
    "    all_matches = set()\n",
    "    hits = []\n",
    "    \n",
    "    for a in range(n+1):\n",
    "        start = a * segment_length\n",
    "        end = min((a+1) * segment_length, len(p))\n",
    "        kmer = p[start:end]\n",
    "        kmers.append(kmer)\n",
    "    print(kmers)\n",
    "    \n",
    "    for k in kmers:\n",
    "        i = bisect.bisect_left(t_index.index, (k, -1))\n",
    "        while i < len(t_index.index):\n",
    "            if t_index.index[i][0] != kmer:\n",
    "                break\n",
    "            hits.append(t_index.index[i][1])\n",
    "            i += 1\n",
    "            \n",
    "        # Check if the match is within bounds\n",
    "        for m in hits:\n",
    "            if m < start or m-start+len(p) > len(t):\n",
    "                continue\n",
    "            mismatches = 0\n",
    "            \n",
    "            # Check mismatches before the start index\n",
    "            for j in range(0, start):\n",
    "                if not p[j] == t[m-start+j]:\n",
    "                    mismatches += 1\n",
    "                    if mismatches > n:\n",
    "                        break\n",
    "            \n",
    "            # Check mismatches after the end index\n",
    "            for j in range(end, len(p)):\n",
    "                if not p[j] == t[m-start+j]:\n",
    "                    mismatches += 1\n",
    "                    if mismatches > n:\n",
    "                        break\n",
    "                        \n",
    "            # If total mismatches are within the allowed limit, add the match index to the set \n",
    "            # m - start to get the position of text which match with the first offset of pattern\n",
    "            if mismatches <= n:\n",
    "                all_matches.add(m - start)\n",
    "                \n",
    "    return list(all_matches), hits\n"
   ]
  },
  {
   "cell_type": "code",
   "execution_count": 51,
   "id": "f125d502",
   "metadata": {},
   "outputs": [
    {
     "name": "stdout",
     "output_type": "stream",
     "text": [
      "all indext: [('AA', 0), ('AA', 1), ('AA', 2), ('AA', 3), ('AA', 4), ('AA', 5), ('AA', 6), ('AA', 7), ('AA', 8), ('AA', 14), ('AA', 15), ('AA', 16), ('AA', 17), ('AA', 18), ('AA', 19), ('AA', 20), ('AA', 21), ('AA', 22), ('AA', 28), ('AA', 29), ('AA', 30), ('AA', 31), ('AA', 32), ('AA', 33), ('AA', 34), ('AA', 35), ('AA', 36), ('AA', 42), ('AA', 43), ('AA', 44), ('AA', 45), ('AA', 46), ('AA', 47), ('AA', 48), ('AA', 49), ('AA', 50), ('AC', 9), ('AC', 23), ('AC', 37), ('CG', 38), ('CT', 10), ('CT', 24), ('GA', 41), ('GG', 39), ('GG', 40), ('GT', 12), ('TA', 13), ('TA', 27), ('TG', 11), ('TT', 25), ('TT', 26)]\n",
      "['C', 'T', 'G']\n",
      "occurrences: []\n",
      "number of all hits: []\n"
     ]
    }
   ],
   "source": [
    "#test\n",
    "p = 'CTGT'\n",
    "ten_as = 'AAAAAAAAAA'\n",
    "t = ten_as + 'CTGT' + ten_as + 'CTTT' + ten_as + 'CGGG' + ten_as\n",
    "index = Index(t, 2)\n",
    "print('all indext: {}'.format(index.index))\n",
    "\n",
    "all_matches, hits = queryIndex_approximate_matching(p, t, index, 2)\n",
    "print('occurrences: {}'. format (all_matches))\n",
    "print('number of all hits: {}'. format(hits))"
   ]
  },
  {
   "cell_type": "code",
   "execution_count": 52,
   "id": "80f3f94a",
   "metadata": {},
   "outputs": [
    {
     "ename": "IndentationError",
     "evalue": "unexpected indent (1295888870.py, line 2)",
     "output_type": "error",
     "traceback": [
      "\u001b[0;36m  Cell \u001b[0;32mIn[52], line 2\u001b[0;36m\u001b[0m\n\u001b[0;31m    while i < len(t_index.index):\u001b[0m\n\u001b[0m    ^\u001b[0m\n\u001b[0;31mIndentationError\u001b[0m\u001b[0;31m:\u001b[0m unexpected indent\n"
     ]
    }
   ],
   "source": [
    "  i = bisect.bisect_left(t_index.index, (kmer, -1))\n",
    "        while i < len(t_index.index):\n",
    "            if t_index.index[i][0] != kmer:\n",
    "                break\n",
    "            hits.append(t_index.index[i][1])\n",
    "            i += 1\n",
    "            "
   ]
  },
  {
   "cell_type": "code",
   "execution_count": 28,
   "id": "4256c178",
   "metadata": {},
   "outputs": [
    {
     "name": "stdout",
     "output_type": "stream",
     "text": [
      "2\n"
     ]
    }
   ],
   "source": [
    "segment_length = int(round(5 / (2+1)))\n",
    "print(segment_length)"
   ]
  },
  {
   "cell_type": "code",
   "execution_count": 41,
   "id": "76be4232",
   "metadata": {},
   "outputs": [
    {
     "name": "stdout",
     "output_type": "stream",
     "text": [
      "CT\n",
      "GT\n",
      "\n"
     ]
    }
   ],
   "source": [
    "p='CTGT'\n",
    "n = 2\n",
    "for a in range(n+1):\n",
    "    start = a * segment_length\n",
    "    end = min((a+1) * segment_length, len(p))\n",
    "    kmer = p[start:end]\n",
    "    a +=1\n",
    "    \n",
    "    print(kmer)\n"
   ]
  },
  {
   "cell_type": "code",
   "execution_count": 53,
   "id": "1f86ca7c",
   "metadata": {},
   "outputs": [],
   "source": [
    "##b"
   ]
  },
  {
   "cell_type": "code",
   "execution_count": null,
   "id": "722f355b",
   "metadata": {},
   "outputs": [],
   "source": [
    "## meow meow"
   ]
  }
 ],
 "metadata": {
  "kernelspec": {
   "display_name": "Python 3 (ipykernel)",
   "language": "python",
   "name": "python3"
  },
  "language_info": {
   "codemirror_mode": {
    "name": "ipython",
    "version": 3
   },
   "file_extension": ".py",
   "mimetype": "text/x-python",
   "name": "python",
   "nbconvert_exporter": "python",
   "pygments_lexer": "ipython3",
   "version": "3.11.5"
  }
 },
 "nbformat": 4,
 "nbformat_minor": 5
}
